{
 "cells": [
  {
   "cell_type": "code",
   "execution_count": null,
   "metadata": {},
   "outputs": [],
   "source": [
    "import numpy as np\n",
    "import pandas as pd\n",
    "import cv2\n",
    "import matplotlib.pyplot as plt\n",
    "from fitter import Fitter\n",
    "import copy\n",
    "import os"
   ]
  },
  {
   "cell_type": "code",
   "execution_count": null,
   "metadata": {},
   "outputs": [],
   "source": [
    "# Нормированная матрица сочетаний\n",
    "def getNormGLCM(normArr):\n",
    "    a1 = copy.deepcopy(normArr)\n",
    "    a2 = []\n",
    "    for i in range(1, len(a1)):\n",
    "        a2.append(a1[i])\n",
    "    del a1[-1]\n",
    "    strA = []\n",
    "    for i in range(len(a1)):\n",
    "        strA.append(str(a1[i]) + str(a2[i]))\n",
    "    a3 = []\n",
    "    for i in range(len(strA)):\n",
    "        a3.append(strA.count(strA[i]))\n",
    "    df = pd.DataFrame({'x': a1, 'y': a2, 'z': a3})\n",
    "    df = df.drop_duplicates()\n",
    "    return df.sort_values(by=['x'])\n",
    "\n",
    "def getNormArr(a):\n",
    "    normArr = []\n",
    "    for i in range(len(a) - 1):\n",
    "        z = int(a[i + 1]) - int(a[i])\n",
    "        normArr.append(z)\n",
    "    return normArr\n",
    "\n",
    "def create_middle_glcm(all_glcm, object_amount):\n",
    "    # creating dataframe with unique values\n",
    "    unique_values = all_glcm.groupby(['x','y']).size().reset_index().rename(columns={0:'z'}).sort_values('z')\n",
    "    # sum of z of current value\n",
    "    for i in range(unique_values.shape[0]):\n",
    "        # temporary df created to select unique values\n",
    "        tmp = unique_values.iloc[i]\n",
    "        # df with same values of x, y\n",
    "        curr_values = all_glcm.loc[all_glcm['x'] == tmp['x']].loc[all_glcm.loc[all_glcm['x'] == tmp['x']]['y'] == tmp['y']]\n",
    "        # counting sum of all z witithin current x, y values\n",
    "        unique_values.iloc[i]['z'] = curr_values['z'].sum()\n",
    "    unique_values['z'] = unique_values['z'].div(object_amount)\n",
    "    return unique_values"
   ]
  },
  {
   "cell_type": "code",
   "execution_count": null,
   "metadata": {},
   "outputs": [],
   "source": [
    "load_folder =  \"/home/mhoncharuk/Education/liver_disease_recognizer/ROI/Norma/CL\"\n",
    "image_files = os.listdir(load_folder)\n",
    "df_orig = pd.DataFrame(columns = [\"x\", \"y\", \"z\"])\n",
    "object_counter = 1\n",
    "for img_name in image_files:\n",
    "    img = cv2.imread(os.path.join(load_folder, img_name), cv2.IMREAD_GRAYSCALE)\n",
    "    img = img.flatten()\n",
    "    img = getNormArr(img)\n",
    "    img_df = getNormGLCM(img)\n",
    "    df_orig = df_orig.append(img_df)\n",
    "    object_counter += 1\n",
    "    print(object_counter)\n",
    "df_orig.to_excel(\"Vilson_pairs.xlsx\", columns=[\"x\", \"y\", \"z\"], index=False)"
   ]
  },
  {
   "cell_type": "code",
   "execution_count": null,
   "metadata": {},
   "outputs": [],
   "source": [
    "def load_ROI_GLCM(roi_path):\n",
    "    load_folder = roi_path\n",
    "    image_files = os.listdir(load_folder)\n",
    "    df_orig = pd.DataFrame(columns = [\"x\", \"y\", \"z\"])\n",
    "    object_counter = 0\n",
    "    for img_name in image_files:\n",
    "        img = cv2.imread(os.path.join(load_folder, img_name), cv2.IMREAD_GRAYSCALE)\n",
    "        img = img.flatten()\n",
    "        img = getNormArr(img)\n",
    "        img_df = getNormGLCM(img)\n",
    "        df_orig = df_orig.append(img_df)\n",
    "        object_counter += 1\n",
    "        print(object_counter)\n",
    "    return df_orig, object_counterdf2\n",
    "\n",
    "df_test = load_ROI(\"/home/mhoncharuk/Education/liver_disease_recognizer/ROI/Norma/CL\")\n",
    "df_test"
   ]
  },
  {
   "cell_type": "code",
   "execution_count": null,
   "metadata": {},
   "outputs": [],
   "source": [
    "df1 = df_test.head()\n",
    "df2 = df_test.tail()\n",
    "# df1 = df1.append(df2.iloc[0])\n",
    "df1"
   ]
  },
  {
   "cell_type": "code",
   "execution_count": null,
   "metadata": {},
   "outputs": [],
   "source": [
    "df1 = df1.reset_index(drop=True)\n",
    "df1"
   ]
  },
  {
   "cell_type": "code",
   "execution_count": null,
   "metadata": {},
   "outputs": [],
   "source": [
    "df11 = pd.DataFrame({'x': [1, 2, 3, 4, 5],\n",
    "                   'y': [1, 2, 3, 4, 5],\n",
    "                   'z': [1, 1, 1, 1, 1]})\n",
    "df22 = pd.DataFrame({'x': [11, 2, 3, 44, 55],\n",
    "                   'y': [11, 2, 3, 44, 55],\n",
    "                   'z': [100, 100, 100, 100, 100]})"
   ]
  },
  {
   "cell_type": "code",
   "execution_count": null,
   "metadata": {},
   "outputs": [],
   "source": [
    "df1 = 1\n",
    "df2 = 3\n"
   ]
  },
  {
   "cell_type": "code",
   "execution_count": null,
   "metadata": {},
   "outputs": [],
   "source": [
    "# df1.loc[df1['x'] == 1][df1['y'] == 1].index\n",
    "df2"
   ]
  },
  {
   "cell_type": "code",
   "execution_count": null,
   "metadata": {},
   "outputs": [],
   "source": [
    "def calc_diff(df_norm, df_pat):\n",
    "    df_result = pd.DataFrame(columns = [\"x\", \"y\", \"z\"])\n",
    "    df_norm = df_norm.reset_index(drop=True)\n",
    "    df_pat = df_pat.reset_index(drop=True)\n",
    "    for i in range(df_pat.shape[0]):\n",
    "        if ((df_norm['x'] == df_pat.iloc[i]['x']) & (df_norm['y'] == df_pat.iloc[i]['y'])).any():\n",
    "            df_norm.at[df_norm.loc[df_norm['x'] == df_pat.iloc[i]['x']][df_norm['y'] == df_pat.iloc[i]['y']].index, 'z'] = df_norm.loc[df_norm['x'] == df_pat.iloc[i]['x']].loc[df_norm['y'] == df_pat.iloc[i]['y']]['z'] - df_pat.iloc[i]['z']\n",
    "        else:\n",
    "            tmp = df_pat.iloc[i]\n",
    "            tmp['z'] = -tmp['z']\n",
    "            df_result = df_result.append(tmp)\n",
    "#     print(df_norm)        \n",
    "    return df_norm.append(df_result).reset_index(drop=True)    \n",
    "calc_diff(df11, df22)"
   ]
  },
  {
   "cell_type": "code",
   "execution_count": null,
   "metadata": {},
   "outputs": [],
   "source": [
    "df2"
   ]
  },
  {
   "cell_type": "code",
   "execution_count": null,
   "metadata": {},
   "outputs": [],
   "source": [
    "df2"
   ]
  },
  {
   "cell_type": "code",
   "execution_count": null,
   "metadata": {},
   "outputs": [],
   "source": []
  },
  {
   "cell_type": "code",
   "execution_count": null,
   "metadata": {},
   "outputs": [],
   "source": [
    "df2.\n",
    "# for i in range(max(df1.shape[0], df2.shape[0])):\n",
    "    "
   ]
  },
  {
   "cell_type": "code",
   "execution_count": null,
   "metadata": {},
   "outputs": [],
   "source": [
    "df2"
   ]
  },
  {
   "cell_type": "code",
   "execution_count": null,
   "metadata": {},
   "outputs": [],
   "source": [
    "df3 = np.where(df1['x'][] == df2['x'] and df1['y'] == df2['y'], df1['z'] - df2['z'], 0) #create new column in df1 for price diff \n",
    "\n",
    "\n"
   ]
  },
  {
   "cell_type": "code",
   "execution_count": null,
   "metadata": {},
   "outputs": [],
   "source": [
    "df3['pricesMatch?'] = np.where(df1['Price1'] == df2['Price2'], 'True', 'False')  #create new column in df1 to check if prices match\n",
    "df3 = np.where(df1['x'] == df2['x'], 0, df1['Price1'] - df2['Price2']) #create new column in df1 for price diff "
   ]
  },
  {
   "cell_type": "code",
   "execution_count": null,
   "metadata": {},
   "outputs": [],
   "source": [
    "df3['priceDiff?'] = np.where(df1['x']['y'] - df2['x']['y']) #create new column in df1 for price diff "
   ]
  },
  {
   "cell_type": "code",
   "execution_count": null,
   "metadata": {},
   "outputs": [],
   "source": []
  },
  {
   "cell_type": "code",
   "execution_count": null,
   "metadata": {},
   "outputs": [],
   "source": [
    "df_orig.to_excel(\"Vilson_pairs.xlsx\", columns=[\"x\", \"y\", \"z\"], index=False)\n"
   ]
  },
  {
   "cell_type": "code",
   "execution_count": null,
   "metadata": {},
   "outputs": [],
   "source": [
    "unique = df_orig.groupby(['x','y']).size().reset_index().rename(columns={0:'count'}).sort_values('count')"
   ]
  },
  {
   "cell_type": "code",
   "execution_count": null,
   "metadata": {},
   "outputs": [],
   "source": [
    "unique\n"
   ]
  },
  {
   "cell_type": "code",
   "execution_count": null,
   "metadata": {},
   "outputs": [],
   "source": [
    "test = df_orig.loc[df_orig['x'] == -1].loc[df_orig.loc[df_orig['x'] == -1]['y'] == 1]"
   ]
  },
  {
   "cell_type": "code",
   "execution_count": null,
   "metadata": {},
   "outputs": [],
   "source": [
    "test['z'].sum()"
   ]
  },
  {
   "cell_type": "code",
   "execution_count": null,
   "metadata": {},
   "outputs": [],
   "source": [
    "# test_res = test.loc[test['y'] == 38] \n",
    "test.loc[test['y'] == 40] "
   ]
  },
  {
   "cell_type": "code",
   "execution_count": null,
   "metadata": {},
   "outputs": [],
   "source": [
    "all_glcm = df_orig\n",
    "\n",
    "unique_values = all_glcm.groupby(['x','y']).size().reset_index().rename(columns={0:'count'}).sort_values('count')\n",
    "i = 3255\n",
    "tmp = unique_values.iloc[i]\n",
    "test = all_glcm.loc[all_glcm['x'] == tmp['x']].loc[all_glcm.loc[all_glcm['x'] == tmp['x']]['y'] == tmp['y']]\n",
    "test"
   ]
  },
  {
   "cell_type": "code",
   "execution_count": null,
   "metadata": {},
   "outputs": [],
   "source": [
    "z_sum = 0\n",
    "for j in range(test.shape[0]):\n",
    "    z_sum = z_sum + test.iloc[j]['z']\n",
    "\n",
    "pd_z_sum = test['z'].sum()    \n",
    "print(z_sum, pd_z_sum)\n"
   ]
  },
  {
   "cell_type": "code",
   "execution_count": null,
   "metadata": {},
   "outputs": [],
   "source": [
    "def create_middle_glcm(all_glcm, object_amount):\n",
    "    # creating dataframe with unique values\n",
    "    unique_values = all_glcm.groupby(['x','y']).size().reset_index().rename(columns={0:'z'}).sort_values('z')\n",
    "    # sum of z of current value\n",
    "    for i in range(unique_values.shape[0]):\n",
    "        # temporary df created to select unique values\n",
    "        tmp = unique_values.iloc[i]\n",
    "        # df with same values of x, y\n",
    "        curr_values = all_glcm.loc[all_glcm['x'] == tmp['x']].loc[all_glcm.loc[all_glcm['x'] == tmp['x']]['y'] == tmp['y']]\n",
    "        # counting sum of all z witithin current x, y values\n",
    "        unique_values.iloc[i]['z'] = curr_values['z'].sum()\n",
    "#     unique_values['z'] = unique_values['z'].div(object_amount)\n",
    "    return unique_values"
   ]
  },
  {
   "cell_type": "code",
   "execution_count": null,
   "metadata": {},
   "outputs": [],
   "source": [
    "create_middle_glcm(df_orig, 1)"
   ]
  },
  {
   "cell_type": "code",
   "execution_count": null,
   "metadata": {},
   "outputs": [],
   "source": [
    "unique_values"
   ]
  },
  {
   "cell_type": "code",
   "execution_count": null,
   "metadata": {},
   "outputs": [],
   "source": [
    "df_orig"
   ]
  },
  {
   "cell_type": "code",
   "execution_count": null,
   "metadata": {},
   "outputs": [],
   "source": [
    "img = cv2.imread(\"/home/mhoncharuk/Education/liver_disease_recognizer/ROI/Pathology/CL/10.png\", cv2.IMREAD_GRAYSCALE)\n",
    "img = img.flatten()\n",
    "img = getNormArr(img)\n"
   ]
  },
  {
   "cell_type": "code",
   "execution_count": null,
   "metadata": {},
   "outputs": [],
   "source": [
    "type(img)"
   ]
  },
  {
   "cell_type": "code",
   "execution_count": null,
   "metadata": {},
   "outputs": [],
   "source": [
    "len(img)"
   ]
  },
  {
   "cell_type": "code",
   "execution_count": null,
   "metadata": {},
   "outputs": [],
   "source": []
  }
 ],
 "metadata": {
  "kernelspec": {
   "display_name": "Python 3",
   "language": "python",
   "name": "python3"
  },
  "language_info": {
   "codemirror_mode": {
    "name": "ipython",
    "version": 3
   },
   "file_extension": ".py",
   "mimetype": "text/x-python",
   "name": "python",
   "nbconvert_exporter": "python",
   "pygments_lexer": "ipython3",
   "version": "3.6.9"
  }
 },
 "nbformat": 4,
 "nbformat_minor": 4
}
