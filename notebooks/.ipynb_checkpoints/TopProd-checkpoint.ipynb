{
 "cells": [
  {
   "cell_type": "code",
   "execution_count": 1,
   "metadata": {},
   "outputs": [],
   "source": [
    "import numpy as np\n",
    "import pandas as pd\n",
    "import cv2\n",
    "import matplotlib.pyplot as plt\n",
    "from fitter import Fitter\n",
    "import os\n",
    "import copy\n",
    "\n",
    "%matplotlib inline\n",
    "#The line above is necesary to show Matplotlib's plots inside a Jupyter Notebook\n",
    "\n",
    "\n"
   ]
  },
  {
   "cell_type": "code",
   "execution_count": 2,
   "metadata": {},
   "outputs": [],
   "source": [
    "def getNormArr_type1(a):\n",
    "    normArr = []\n",
    "    for i in range(a.shape[1]):\n",
    "        newList = []\n",
    "        for j in range(a.shape[0] - 1):\n",
    "            newList.append(a[j + 1][i] - a[j][i])\n",
    "        normArr.append(newList)\n",
    "    minArr = abs(min(min(normArr)))\n",
    "    for i in range(len(normArr)):\n",
    "        for j in range(len(normArr[0])):\n",
    "            normArr[i][j] += minArr\n",
    "    return np.array(normArr)\n",
    "\n",
    "\n",
    "def getNormArr_type2(a):\n",
    "    normArr = []\n",
    "    for i in range(a.shape[0]):\n",
    "        newList = []\n",
    "        for j in range(a.shape[1] - 1):\n",
    "            newList.append(a[i][j + 1] - a[i][j])\n",
    "        normArr.append(newList)\n",
    "    minArr = abs(min(min(normArr)))\n",
    "    for i in range(len(normArr)):\n",
    "        for j in range(len(normArr[0])):\n",
    "            normArr[i][j] += minArr\n",
    "    return np.array(normArr)"
   ]
  },
  {
   "cell_type": "code",
   "execution_count": null,
   "metadata": {},
   "outputs": [],
   "source": []
  },
  {
   "cell_type": "code",
   "execution_count": 3,
   "metadata": {},
   "outputs": [],
   "source": [
    "img = cv2.imread(\"/home/mhoncharuk/Education/liver_disease_recognizer/ROI/Norma/CL/37.png\", cv2.IMREAD_GRAYSCALE)\n",
    "img_norm = getNormArr_type1(img.astype(int)).astype(\"int8\")"
   ]
  },
  {
   "cell_type": "code",
   "execution_count": null,
   "metadata": {},
   "outputs": [],
   "source": [
    "window_name = 'image'\n",
    "  \n",
    "\n",
    "# cv2.imshow(window_name, img_norm) \n",
    "cv2.imshow(window_name, img) \n",
    "cv2.waitKey(0)\n",
    "cv2.destroyAllWindows()"
   ]
  },
  {
   "cell_type": "code",
   "execution_count": 4,
   "metadata": {},
   "outputs": [],
   "source": []
  },
  {
   "cell_type": "code",
   "execution_count": 5,
   "metadata": {},
   "outputs": [],
   "source": [
    "window_name = 'image'\n",
    "cv2.imshow(window_name, img2) \n",
    "cv2.waitKey(0)\n",
    "cv2.destroyAllWindows()"
   ]
  },
  {
   "cell_type": "code",
   "execution_count": null,
   "metadata": {},
   "outputs": [],
   "source": []
  },
  {
   "cell_type": "code",
   "execution_count": null,
   "metadata": {},
   "outputs": [],
   "source": [
    "pat_roi_path = \"/home/mhoncharuk/Education/liver_disease_recognizer/ROI/Pathology/CL\""
   ]
  }
 ],
 "metadata": {
  "kernelspec": {
   "display_name": "Python 3",
   "language": "python",
   "name": "python3"
  },
  "language_info": {
   "codemirror_mode": {
    "name": "ipython",
    "version": 3
   },
   "file_extension": ".py",
   "mimetype": "text/x-python",
   "name": "python",
   "nbconvert_exporter": "python",
   "pygments_lexer": "ipython3",
   "version": "3.6.9"
  }
 },
 "nbformat": 4,
 "nbformat_minor": 4
}
