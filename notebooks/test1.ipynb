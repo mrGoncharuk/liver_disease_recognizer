{
 "cells": [
  {
   "cell_type": "code",
   "execution_count": 31,
   "metadata": {},
   "outputs": [],
   "source": [
    "# coding=utf-8\n",
    "import numpy as np\n",
    "import pandas as pd\n",
    "import cv2\n",
    "from scipy.stats import skew, kurtosis\n",
    "import copy\n",
    "import os\n",
    "import time\n",
    "import matplotlib.pyplot as plt"
   ]
  },
  {
   "cell_type": "code",
   "execution_count": 36,
   "metadata": {},
   "outputs": [],
   "source": [
    "def getPixelMatrix(filename):\n",
    "    arr = cv2.imread(filename, 0)\n",
    "    return arr.astype(int)\n",
    "\n",
    "\n",
    "def getNormArr(a):\n",
    "    a = a.astype(int)\n",
    "    normArr = []\n",
    "    for i in range(a.shape[0]):\n",
    "#     for i in range(a.shape[1]):\n",
    "        newList = []\n",
    "        for j in range(a.shape[1] - 1):\n",
    "#         for j in range(a.shape[0] - 1):\n",
    "            newList.append(a[i][j + 1] - a[i][j])\n",
    "#             newList.append(a[j + 1][i] - a[j][i])\n",
    "        normArr.append(newList)\n",
    "    minArr = min(min(normArr))\n",
    "    print(np.amin(normArr))\n",
    "    minArr = abs(minArr)\n",
    "    print(minArr)\n",
    "    for i in range(len(normArr)):\n",
    "        for j in range(len(normArr[0])):\n",
    "            normArr[i][j] += minArr\n",
    "    return np.asarray(normArr, dtype='int8')"
   ]
  },
  {
   "cell_type": "code",
   "execution_count": 37,
   "metadata": {},
   "outputs": [
    {
     "name": "stdout",
     "output_type": "stream",
     "text": [
      "-31\n",
      "16\n"
     ]
    }
   ],
   "source": [
    "arr = getPixelMatrix(\"/home/mhoncharuk/Education/liver_disease_recognizer/dataset/41.png\")\n",
    "normArr = getNormArr(cv2.imread(filename, 0))\n",
    "# newArr = np.asarray(normArr, dtype=int)\n",
    "filename = \"/home/mhoncharuk/Education/liver_disease_recognizer/test_img.png\"\n",
    "lol = cv2.imwrite(filename, newArr) "
   ]
  },
  {
   "cell_type": "code",
   "execution_count": 30,
   "metadata": {},
   "outputs": [
    {
     "ename": "ValueError",
     "evalue": "The truth value of an array with more than one element is ambiguous. Use a.any() or a.all()",
     "output_type": "error",
     "traceback": [
      "\u001b[0;31m---------------------------------------------------------------------------\u001b[0m",
      "\u001b[0;31mValueError\u001b[0m                                Traceback (most recent call last)",
      "\u001b[0;32m<ipython-input-30-809e18ad5749>\u001b[0m in \u001b[0;36m<module>\u001b[0;34m\u001b[0m\n\u001b[1;32m      1\u001b[0m \u001b[0marr\u001b[0m \u001b[0;34m=\u001b[0m \u001b[0mgetPixelMatrix\u001b[0m\u001b[0;34m(\u001b[0m\u001b[0;34m\"/home/mhoncharuk/Education/liver_disease_recognizer/dataset/ROI/Norma/CL/79.png\"\u001b[0m\u001b[0;34m)\u001b[0m\u001b[0;34m\u001b[0m\u001b[0;34m\u001b[0m\u001b[0m\n\u001b[0;32m----> 2\u001b[0;31m \u001b[0ma\u001b[0m \u001b[0;34m=\u001b[0m \u001b[0mabs\u001b[0m\u001b[0;34m(\u001b[0m\u001b[0mmin\u001b[0m\u001b[0;34m(\u001b[0m\u001b[0mmin\u001b[0m\u001b[0;34m(\u001b[0m\u001b[0mnormArr\u001b[0m\u001b[0;34m)\u001b[0m\u001b[0;34m)\u001b[0m\u001b[0;34m)\u001b[0m\u001b[0;34m\u001b[0m\u001b[0;34m\u001b[0m\u001b[0m\n\u001b[0m\u001b[1;32m      3\u001b[0m \u001b[0ma\u001b[0m\u001b[0;34m\u001b[0m\u001b[0;34m\u001b[0m\u001b[0m\n",
      "\u001b[0;31mValueError\u001b[0m: The truth value of an array with more than one element is ambiguous. Use a.any() or a.all()"
     ]
    }
   ],
   "source": [
    "arr = getPixelMatrix(\"/home/mhoncharuk/Education/liver_disease_recognizer/dataset/ROI/Norma/CL/79.png\")\n",
    "a = abs(min(min(normArr)))\n",
    "a"
   ]
  },
  {
   "cell_type": "code",
   "execution_count": 3,
   "metadata": {},
   "outputs": [
    {
     "name": "stdout",
     "output_type": "stream",
     "text": [
      "Usage: time [-apvV] [-f format] [-o file] [--append] [--verbose]\r\n",
      "       [--portability] [--format=format] [--output=file] [--version]\r\n",
      "       [--quiet] [--help] command [arg...]\r\n"
     ]
    }
   ],
   "source": [
    "!time"
   ]
  },
  {
   "cell_type": "code",
   "execution_count": 4,
   "metadata": {},
   "outputs": [
    {
     "data": {
      "text/plain": [
       "datetime.datetime(2020, 5, 11, 17, 51, 30, 407170)"
      ]
     },
     "execution_count": 4,
     "metadata": {},
     "output_type": "execute_result"
    }
   ],
   "source": [
    "import datetime\n",
    "datetime.datetime.now()"
   ]
  },
  {
   "cell_type": "code",
   "execution_count": null,
   "metadata": {},
   "outputs": [],
   "source": []
  }
 ],
 "metadata": {
  "kernelspec": {
   "display_name": "Python 3",
   "language": "python",
   "name": "python3"
  },
  "language_info": {
   "codemirror_mode": {
    "name": "ipython",
    "version": 3
   },
   "file_extension": ".py",
   "mimetype": "text/x-python",
   "name": "python",
   "nbconvert_exporter": "python",
   "pygments_lexer": "ipython3",
   "version": "3.6.9"
  }
 },
 "nbformat": 4,
 "nbformat_minor": 2
}
