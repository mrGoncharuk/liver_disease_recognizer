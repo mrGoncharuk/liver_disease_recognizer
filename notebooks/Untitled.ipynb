{
 "cells": [
  {
   "cell_type": "code",
   "execution_count": 1,
   "metadata": {},
   "outputs": [],
   "source": [
    "import os\n",
    "vipshome = 'c:\\\\vips-dev-8.9\\\\bin'\n",
    "os.environ['PATH'] = vipshome + ';' + os.environ['PATH']"
   ]
  },
  {
   "cell_type": "code",
   "execution_count": 2,
   "metadata": {},
   "outputs": [],
   "source": [
    "import numpy as np\n",
    "import cv2\n",
    "import matplotlib.pyplot as plt\n",
    "import pyvips\n",
    "from fitter import Fitter\n",
    "# Fitter?\n"
   ]
  },
  {
   "cell_type": "code",
   "execution_count": 10,
   "metadata": {},
   "outputs": [
    {
     "data": {
      "text/plain": [
       "True"
      ]
     },
     "execution_count": 10,
     "metadata": {},
     "output_type": "execute_result"
    }
   ],
   "source": [
    "img = cv2.imread(\"3.bmp\", 0)\n",
    "\n",
    "# create a CLAHE object (Arguments are optional).\n",
    "clahe = cv2.createCLAHE(clipLimit=2.0, tileGridSize=(8,8))\n",
    "cl1 = clahe.apply(img)\n",
    "\n",
    "cv2.imwrite('clahe_3.bmp',cl1)"
   ]
  },
  {
   "cell_type": "code",
   "execution_count": 11,
   "metadata": {},
   "outputs": [],
   "source": [
    "x = pyvips.Image.new_from_file(\"3.bmp\")\n",
    "x = x.hist_equal()\n",
    "x.write_to_file(\"vips_3.bmp\")"
   ]
  },
  {
   "cell_type": "code",
   "execution_count": 33,
   "metadata": {},
   "outputs": [],
   "source": [
    "def normalize_image(a):\n",
    "    im_shape = a.shape\n",
    "    a = a.flatten()\n",
    "    normArr = []\n",
    "    normArr.append(a[0])\n",
    "    for i in range(len(a) - 1):\n",
    "        z = int(a[i + 1]) - int(a[i])\n",
    "        normArr.append(z)\n",
    "    minArr = abs(min(normArr))\n",
    "    for i in range(len(normArr)):\n",
    "        normArr[i] += minArr\n",
    "    return np.array(normArr).reshape(im_shape)"
   ]
  },
  {
   "cell_type": "code",
   "execution_count": 34,
   "metadata": {},
   "outputs": [],
   "source": [
    "raw_data = cv2.imread(\"1_1.bmp\", cv2.IMREAD_GRAYSCALE)\n",
    "norm_img = normalize_image(raw_data)"
   ]
  },
  {
   "cell_type": "code",
   "execution_count": 35,
   "metadata": {},
   "outputs": [
    {
     "data": {
      "text/plain": [
       "True"
      ]
     },
     "execution_count": 35,
     "metadata": {},
     "output_type": "execute_result"
    }
   ],
   "source": [
    "cv2.imwrite(\"1_1_norm.bmp\", norm_img)"
   ]
  },
  {
   "cell_type": "code",
   "execution_count": 26,
   "metadata": {},
   "outputs": [
    {
     "name": "stdout",
     "output_type": "stream",
     "text": [
      "(40, 100) (40, 100)\n"
     ]
    }
   ],
   "source": [
    "print(im_shape, data.shape)"
   ]
  },
  {
   "cell_type": "code",
   "execution_count": null,
   "metadata": {},
   "outputs": [],
   "source": []
  },
  {
   "cell_type": "markdown",
   "metadata": {},
   "source": [
    "### kstwobign(\\*args, \\*\\*kwds)     Kolmogorov-Smirnov two-sided test for large N.\n",
    "### rayleigh(\\*args, \\*\\*kwds)     A Rayleigh continuous random variable.\n",
    "### rice(\\*args, \\*\\*kwds)     A Rice continuous random variable.\n",
    "### genlogistic(\\*args, \\*\\*kwds)     A generalized logistic continuous random variable.\n",
    "### expon(\\*args, \\*\\*kwds)     An exponential continuous random variable.\n",
    "### norminvgauss(\\*args, \\*\\*kwds)     A Normal Inverse Gaussian continuous random variable.\n",
    "### norm(\\*args, \\*\\*kwds)     A normal continuous random variable."
   ]
  },
  {
   "cell_type": "code",
   "execution_count": 3,
   "metadata": {},
   "outputs": [
    {
     "name": "stdout",
     "output_type": "stream",
     "text": [
      "Fitted norm distribution with error=0.0018795753071423592)\n",
      "Fitted kstwobign distribution with error=0.0014876636267186687)\n",
      "Fitted rayleigh distribution with error=0.0026422601674896454)\n",
      "Fitted rice distribution with error=0.09444641662315141)\n",
      "Fitted genlogistic distribution with error=0.0013863694674273743)\n",
      "Fitted norminvgauss distribution with error=0.0014062897584288844)\n"
     ]
    },
    {
     "data": {
      "text/html": [
       "<div>\n",
       "<style scoped>\n",
       "    .dataframe tbody tr th:only-of-type {\n",
       "        vertical-align: middle;\n",
       "    }\n",
       "\n",
       "    .dataframe tbody tr th {\n",
       "        vertical-align: top;\n",
       "    }\n",
       "\n",
       "    .dataframe thead th {\n",
       "        text-align: right;\n",
       "    }\n",
       "</style>\n",
       "<table border=\"1\" class=\"dataframe\">\n",
       "  <thead>\n",
       "    <tr style=\"text-align: right;\">\n",
       "      <th></th>\n",
       "      <th>sumsquare_error</th>\n",
       "      <th>aic</th>\n",
       "      <th>bic</th>\n",
       "      <th>kl_div</th>\n",
       "    </tr>\n",
       "  </thead>\n",
       "  <tbody>\n",
       "    <tr>\n",
       "      <td>genlogistic</td>\n",
       "      <td>0.001386</td>\n",
       "      <td>1247.188697</td>\n",
       "      <td>-46580.432793</td>\n",
       "      <td>inf</td>\n",
       "    </tr>\n",
       "    <tr>\n",
       "      <td>norminvgauss</td>\n",
       "      <td>0.001406</td>\n",
       "      <td>1287.235970</td>\n",
       "      <td>-46526.971770</td>\n",
       "      <td>inf</td>\n",
       "    </tr>\n",
       "    <tr>\n",
       "      <td>kstwobign</td>\n",
       "      <td>0.001488</td>\n",
       "      <td>1288.827665</td>\n",
       "      <td>-46364.108454</td>\n",
       "      <td>inf</td>\n",
       "    </tr>\n",
       "    <tr>\n",
       "      <td>norm</td>\n",
       "      <td>0.001880</td>\n",
       "      <td>1444.102588</td>\n",
       "      <td>-45620.032765</td>\n",
       "      <td>inf</td>\n",
       "    </tr>\n",
       "    <tr>\n",
       "      <td>rayleigh</td>\n",
       "      <td>0.002642</td>\n",
       "      <td>1172.669654</td>\n",
       "      <td>-44536.279126</td>\n",
       "      <td>inf</td>\n",
       "    </tr>\n",
       "  </tbody>\n",
       "</table>\n",
       "</div>"
      ],
      "text/plain": [
       "              sumsquare_error          aic           bic  kl_div\n",
       "genlogistic          0.001386  1247.188697 -46580.432793     inf\n",
       "norminvgauss         0.001406  1287.235970 -46526.971770     inf\n",
       "kstwobign            0.001488  1288.827665 -46364.108454     inf\n",
       "norm                 0.001880  1444.102588 -45620.032765     inf\n",
       "rayleigh             0.002642  1172.669654 -44536.279126     inf"
      ]
     },
     "execution_count": 3,
     "metadata": {},
     "output_type": "execute_result"
    },
    {
     "data": {
      "image/png": "[encoded data removed]",
      "text/plain": [
       "<Figure size 432x288 with 1 Axes>"
      ]
     },
     "metadata": {
      "needs_background": "light"
     },
     "output_type": "display_data"
    }
   ],
   "source": [
    "raw_data = cv2.imread(\"roi_1_9.bmp\", cv2.IMREAD_GRAYSCALE)\n",
    "data = raw_data.flatten()\n",
    "\n",
    "\n",
    "\n",
    "f = Fitter(data, distributions=['norm', 'kstwobign', 'rayleigh', 'rice', 'genlogistic', 'norminvgauss'])\n",
    "f.fit()\n",
    "f.summary()"
   ]
  }
 ],
 "metadata": {
  "kernelspec": {
   "display_name": "Python 3",
   "language": "python",
   "name": "python3"
  },
  "language_info": {
   "codemirror_mode": {
    "name": "ipython",
    "version": 3
   },
   "file_extension": ".py",
   "mimetype": "text/x-python",
   "name": "python",
   "nbconvert_exporter": "python",
   "pygments_lexer": "ipython3",
   "version": "3.6.9"
  }
 },
 "nbformat": 4,
 "nbformat_minor": 2
}
