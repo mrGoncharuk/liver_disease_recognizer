{
 "cells": [
  {
   "cell_type": "code",
   "execution_count": 6,
   "metadata": {},
   "outputs": [],
   "source": [
    "import numpy as np\n",
    "import pandas as pd\n",
    "import matplotlib.pyplot as plt\n",
    "import cv2\n",
    "import copy\n",
    "import os\n",
    "from os import path\n"
   ]
  },
  {
   "cell_type": "code",
   "execution_count": 34,
   "metadata": {},
   "outputs": [],
   "source": [
    "def count_elements(seq) -> dict:\n",
    "    \"\"\"Tally elements from `seq`.\"\"\"\n",
    "    hist = {}\n",
    "    for i in seq:\n",
    "        hist[i] = hist.get(i, 0) + 1\n",
    "    return hist\n",
    "\n",
    "\n",
    "def find_vibros(img, img_label):\n",
    "    img = img.flatten()\n",
    "    img = getNormArr(img)\n",
    "    hst = count_elements(img)\n",
    "    my_keys = sorted(hst.keys())\n",
    "    max_limit_passed = False\n",
    "    print(img_label)\n",
    "    for i in range(len(my_keys) - 1) :\n",
    "        if (hst[my_keys[i]] == hst[max(hst, key=hst.get)]):\n",
    "            max_limit_passed = True\n",
    "        if ((hst[my_keys[i + 1]] < hst[my_keys[i]]) \n",
    "            and ((hst[my_keys[i]] - hst[my_keys[i + 1]]) > 100)\n",
    "            and not(max_limit_passed)):\n",
    "            print(\"Image: \", img_label, \n",
    "                  \"\\ton_up;\\t prev: \", hst[my_keys[i - 1]], \n",
    "                  \"\\tcurrent: \", hst[my_keys[i]], \n",
    "                  \"\\tnext: \", hst[my_keys[i + 1]], \n",
    "                  \"\\tcolor_diff: \", my_keys[i]\n",
    "                  , sep=\"\")\n",
    "        elif ((hst[my_keys[i + 1]] > hst[my_keys[i]]) \n",
    "            and ((hst[my_keys[i + 1]] - hst[my_keys[i]]) > 100) \n",
    "            and max_limit_passed):\n",
    "            print(\"Image: \", img_label, \n",
    "                  \"\\ton_down\\t prev: \", hst[my_keys[i - 1]], \n",
    "                  \"\\tcurrent: \", hst[my_keys[i]], \n",
    "                  \"\\tnext: \", hst[my_keys[i + 1]], \n",
    "                  \"\\tcolor_diff: \", my_keys[i]\n",
    "                  , sep=\"\")\n",
    "\n",
    "\n",
    "def getNormArr(a):\n",
    "    normArr = []\n",
    "    for i in range(len(a) - 1):\n",
    "        z = int(a[i + 1]) - int(a[i])\n",
    "        normArr.append(z)\n",
    "    return normArr\n",
    "\n",
    "            "
   ]
  },
  {
   "cell_type": "code",
   "execution_count": 35,
   "metadata": {},
   "outputs": [
    {
     "name": "stdout",
     "output_type": "stream",
     "text": [
      "10_1.bmp\n",
      "10_2.bmp\n",
      "10_3.bmp\n",
      "11_1.bmp\n",
      "11_2.bmp\n",
      "11_3.bmp\n",
      "11_4.bmp\n",
      "11_5.bmp\n",
      "12_1.bmp\n",
      "13_1.bmp\n",
      "13_2.bmp\n",
      "13_3.bmp\n",
      "14_1.bmp\n",
      "14_2.bmp\n",
      "15_1.bmp\n",
      "15_2.bmp\n",
      "16_1.bmp\n",
      "16_2.bmp\n",
      "17_1.bmp\n",
      "17_2.bmp\n",
      "18_1.bmp\n",
      "18_2.bmp\n",
      "19_1.bmp\n",
      "1_1.bmp\n",
      "1_2.bmp\n",
      "20_1.bmp\n",
      "21_1.bmp\n",
      "22_1.bmp\n",
      "23_1.bmp\n",
      "24_1.bmp\n",
      "24_2.bmp\n",
      "24_3.bmp\n",
      "25_1.bmp\n",
      "26_1.bmp\n",
      "27_1.bmp\n",
      "27_2.bmp\n",
      "27_3.bmp\n",
      "28_1.bmp\n",
      "28_2.bmp\n",
      "29_1.bmp\n",
      "2_1.bmp\n",
      "2_3.bmp\n",
      "30_1.bmp\n",
      "30_2.bmp\n",
      "30_3.bmp\n",
      "31_1.bmp\n",
      "32_1.bmp\n",
      "33_1.bmp\n",
      "34_1.bmp\n",
      "34_2.bmp\n",
      "35_1.bmp\n",
      "35_2.bmp\n",
      "35_3.bmp\n",
      "35_4.bmp\n",
      "36_1.bmp\n",
      "36_2.bmp\n",
      "36_3.bmp\n",
      "36_4.bmp\n",
      "37_1.bmp\n",
      "37_2.bmp\n",
      "37_3.bmp\n",
      "37_4.bmp\n",
      "38_1.bmp\n",
      "38_2.bmp\n",
      "38_3.bmp\n",
      "39_1.bmp\n",
      "39_2.bmp\n",
      "39_3.bmp\n",
      "3_1.bmp\n",
      "40_1.bmp\n",
      "40_2.bmp\n",
      "40_3.bmp\n",
      "41_1.bmp\n",
      "41_2.bmp\n",
      "41_3.bmp\n",
      "42_1.bmp\n",
      "42_2.bmp\n",
      "43_1.bmp\n",
      "44_1.bmp\n",
      "45_1.bmp\n",
      "46_1.bmp\n",
      "46_2.bmp\n",
      "47_1.bmp\n",
      "48_1.bmp\n",
      "49_1.bmp\n",
      "4_1.bmp\n",
      "50_1.bmp\n",
      "50_2.bmp\n",
      "51_1.bmp\n",
      "52_1.bmp\n",
      "53_1.bmp\n",
      "54_1.bmp\n",
      "55_1.bmp\n",
      "55_2.bmp\n",
      "56_1.bmp\n",
      "57_1.bmp\n",
      "5_1.bmp\n",
      "6_1.bmp\n",
      "7_1.bmp\n",
      "7_2.bmp\n",
      "8_1.bmp\n",
      "8_2.bmp\n",
      "8_3.bmp\n",
      "9_1.bmp\n"
     ]
    }
   ],
   "source": [
    "load_folder =  \"C:\\\\Users\\\\User\\\\Documents\\\\notebooks\\\\aoi_linear_pat_all\"\n",
    "image_files = os.listdir(load_folder)\n",
    "for img_label in image_files:\n",
    "    img_name = os.path.join(load_folder, img_label)\n",
    "    img = cv2.imread(img_name, cv2.IMREAD_GRAYSCALE)\n",
    "    img_path =  \"C:\\\\Users\\\\User\\\\Documents\\\\notebooks\"\n",
    "    find_vibros(img, img_label)"
   ]
  },
  {
   "cell_type": "code",
   "execution_count": null,
   "metadata": {},
   "outputs": [],
   "source": []
  },
  {
   "cell_type": "code",
   "execution_count": 4,
   "metadata": {},
   "outputs": [],
   "source": [
    "pairs = pair_features"
   ]
  },
  {
   "cell_type": "code",
   "execution_count": 6,
   "metadata": {},
   "outputs": [
    {
     "data": {
      "image/png": "[encoded data removed]",
      "text/plain": [
       "<Figure size 648x648 with 4 Axes>"
      ]
     },
     "metadata": {
      "needs_background": "light"
     },
     "output_type": "display_data"
    }
   ],
   "source": [
    "import pylab as pl\n",
    "pairs.drop('class' ,axis=1).hist(bins=30, figsize=(9,9))\n",
    "pl.suptitle(\"Histogram for each numeric input variable\")\n",
    "plt.savefig('fruits_hist')\n",
    "plt.show()"
   ]
  },
  {
   "cell_type": "code",
   "execution_count": null,
   "metadata": {},
   "outputs": [],
   "source": []
  }
 ],
 "metadata": {
  "kernelspec": {
   "display_name": "Python 3",
   "language": "python",
   "name": "python3"
  },
  "language_info": {
   "codemirror_mode": {
    "name": "ipython",
    "version": 3
   },
   "file_extension": ".py",
   "mimetype": "text/x-python",
   "name": "python",
   "nbconvert_exporter": "python",
   "pygments_lexer": "ipython3",
   "version": "3.7.4"
  }
 },
 "nbformat": 4,
 "nbformat_minor": 2
}
